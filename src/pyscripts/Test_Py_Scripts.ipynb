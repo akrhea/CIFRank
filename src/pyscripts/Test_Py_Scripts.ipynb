{
 "cells": [
  {
   "cell_type": "code",
   "execution_count": 1,
   "metadata": {},
   "outputs": [],
   "source": [
    "from gen_data_stability import gen_data_and_resample_noise, sampling_distribution\n",
    "from numpy.random import normal, binomial"
   ]
  },
  {
   "cell_type": "code",
   "execution_count": 2,
   "metadata": {},
   "outputs": [],
   "source": [
    "single_samp = gen_data_and_resample_noise(n_runs=5, x_err_input=True, y_err_input=True)"
   ]
  },
  {
   "cell_type": "code",
   "execution_count": 3,
   "metadata": {},
   "outputs": [],
   "source": [
    "hundred_samp = sampling_distribution(s_samples=100,\n",
    "                                     n_runs=1000,\n",
    "                                     x_err_input=True, \n",
    "                                     y_err_input=True)"
   ]
  },
  {
   "cell_type": "code",
   "execution_count": 125,
   "metadata": {},
   "outputs": [],
   "source": [
    "import pandas as pd\n",
    "import os, argparse, pathlib, itertools\n",
    "from utils.basic_utils import writeToCSV\n",
    "\n",
    "\n",
    "def get_counterfactual_data(output_dir='default'):\n",
    "    \n",
    "    # Define base repo directory\n",
    "    try:\n",
    "        # When executed directly from script\n",
    "        base_dir = pathlib.Path(__file__).parents[2]\n",
    "    except:\n",
    "        # When executed from jupyter notebook\n",
    "        base_dir  = pathlib.Path(os.getcwd()).parents[1]\n",
    "        \n",
    "    # Read in estimated parameters\n",
    "    param_dir = base_dir / 'out/parameter_data/stability/{}'.format(output_dir)    \n",
    "    y_params_df = pd.read_csv(param_dir / 'params_y.csv', index_col='Unnamed: 0')\n",
    "    x_params_df = pd.read_csv(param_dir / 'params_x.csv', index_col='Unnamed: 0')\n",
    "    \n",
    "    # Get number of samples drawn from parameter files\n",
    "    s_samples = len(y_params_df)\n",
    "    \n",
    "    # Assert parameter files are the same length\n",
    "    assert s_samples == len(x_params_df), \\\n",
    "           'Parameter files indicate different number of samples.'\n",
    "    \n",
    "    # Loop through s_samples\n",
    "    for s in range(1, s_samples + 1):\n",
    "        \n",
    "        # Read in this sample of the data\n",
    "        cur_df = pd.read_csv(base_dir / 'out/synthetic_data/stability/{}/data/observed_samp_{}.csv'\\\n",
    "                                                                            .format(output_dir, s),\n",
    "                             index_col='Unnamed: 0')\n",
    "        \n",
    "        # Intialize dataframe to hold counterfactual data\n",
    "        counter_df = pd.DataFrame({'original_a':cur_df['a'], 'original_y':cur_df['y']})\n",
    "\n",
    "        # Get list of groups in A (usually [0,1])\n",
    "        group_list = [x for x in cur_df['a'].unique()]\n",
    "        \n",
    "        # Isolate parameters estimated from this sample\n",
    "        x_params = x_params_df.loc[s]\n",
    "        y_params = y_params_df.loc[s]\n",
    "        \n",
    "        # Calcuate X-residuals\n",
    "        x_residuals = cur_df['x'] - ( x_params['a']*cur_df['a'] + \\\n",
    "                                      x_params['intercept'] ).values\n",
    "\n",
    "        # Calcuate Y-residuals\n",
    "        y_residuals = cur_df['y'] - ( y_params['a']*cur_df['a'] + \\\n",
    "                                      y_params['x']*cur_df['x'] + \\\n",
    "                                      y_params['intercept'] ).values\n",
    "        \n",
    "        # Loop through groups in A present in this sample\n",
    "        for group in group_list:\n",
    "            \n",
    "            # Get baseline X prediction for A <- group\n",
    "            counter_base_x = group*x_params['a'] + \\\n",
    "                             x_params['intercept']\n",
    "\n",
    "            # Estimate counterfactual X\n",
    "            counter_x = counter_base_x + x_residuals\n",
    "\n",
    "            # Get baseline Y prediction for A <- group for non-resolving X\n",
    "            counter_base_y_nonres = group*y_params['a'] + \\\n",
    "                                    counter_x*y_params['x'] + \\\n",
    "                                    y_params['intercept']\n",
    "            \n",
    "            # Estimate counterfactual Y for non-resolving X\n",
    "            counter_y_nonres = counter_base_y_nonres + y_residuals\n",
    "\n",
    "            # Get baseline Y prediction for A <- group for resolving X\n",
    "            counter_base_y_res = group*y_params['a'] + \\\n",
    "                                 cur_df['x']*y_params['x'] + \\\n",
    "                                 y_params['intercept']\n",
    "            \n",
    "            # Estimate counterfactual Y for resolving X\n",
    "            counter_y_res = counter_base_y_res + y_residuals\n",
    "            \n",
    "            # Save counterfactual Y for non-resolving X\n",
    "            counter_df['cf_y_nonres_a{}'.format(group)] = counter_y_nonres\n",
    "            \n",
    "            # Save counterfactual Y for resolving X\n",
    "            counter_df['cf_y_xres_a{}'.format(group)] = counter_y_res\n",
    "\n",
    "        counter_df.to_csv(base_dir / 'out/counterfactual_data/stability/{}/counter_samp_{}.csv'\\\n",
    "                                                                 .format(output_dir, s))\n",
    "        \n",
    "    return "
   ]
  },
  {
   "cell_type": "code",
   "execution_count": 127,
   "metadata": {},
   "outputs": [],
   "source": [
    "get_counterfactual_data()"
   ]
  },
  {
   "cell_type": "code",
   "execution_count": 61,
   "metadata": {},
   "outputs": [
    {
     "ename": "NameError",
     "evalue": "name 'counter_base_y' is not defined",
     "output_type": "error",
     "traceback": [
      "\u001b[0;31m---------------------------------------------------------------------------\u001b[0m",
      "\u001b[0;31mNameError\u001b[0m                                 Traceback (most recent call last)",
      "\u001b[0;32m<ipython-input-61-1a73106d6626>\u001b[0m in \u001b[0;36m<module>\u001b[0;34m\u001b[0m\n\u001b[0;32m----> 1\u001b[0;31m \u001b[0mprint\u001b[0m\u001b[0;34m(\u001b[0m\u001b[0mcounter_base_y\u001b[0m\u001b[0;34m)\u001b[0m\u001b[0;34m\u001b[0m\u001b[0;34m\u001b[0m\u001b[0m\n\u001b[0m",
      "\u001b[0;31mNameError\u001b[0m: name 'counter_base_y' is not defined"
     ]
    }
   ],
   "source": [
    "print(counter_base_y)"
   ]
  },
  {
   "cell_type": "code",
   "execution_count": 37,
   "metadata": {},
   "outputs": [
    {
     "data": {
      "text/html": [
       "<div>\n",
       "<style scoped>\n",
       "    .dataframe tbody tr th:only-of-type {\n",
       "        vertical-align: middle;\n",
       "    }\n",
       "\n",
       "    .dataframe tbody tr th {\n",
       "        vertical-align: top;\n",
       "    }\n",
       "\n",
       "    .dataframe thead th {\n",
       "        text-align: right;\n",
       "    }\n",
       "</style>\n",
       "<table border=\"1\" class=\"dataframe\">\n",
       "  <thead>\n",
       "    <tr style=\"text-align: right;\">\n",
       "      <th></th>\n",
       "      <th>a</th>\n",
       "      <th>x</th>\n",
       "      <th>intercept</th>\n",
       "    </tr>\n",
       "  </thead>\n",
       "  <tbody>\n",
       "    <tr>\n",
       "      <th>1</th>\n",
       "      <td>0.278099</td>\n",
       "      <td>-0.076967</td>\n",
       "      <td>0.398750</td>\n",
       "    </tr>\n",
       "    <tr>\n",
       "      <th>2</th>\n",
       "      <td>0.215806</td>\n",
       "      <td>0.479788</td>\n",
       "      <td>0.187558</td>\n",
       "    </tr>\n",
       "    <tr>\n",
       "      <th>3</th>\n",
       "      <td>0.190565</td>\n",
       "      <td>0.223374</td>\n",
       "      <td>0.257857</td>\n",
       "    </tr>\n",
       "    <tr>\n",
       "      <th>4</th>\n",
       "      <td>0.067204</td>\n",
       "      <td>-0.244976</td>\n",
       "      <td>0.646443</td>\n",
       "    </tr>\n",
       "    <tr>\n",
       "      <th>5</th>\n",
       "      <td>0.087950</td>\n",
       "      <td>0.177786</td>\n",
       "      <td>0.470748</td>\n",
       "    </tr>\n",
       "    <tr>\n",
       "      <th>...</th>\n",
       "      <td>...</td>\n",
       "      <td>...</td>\n",
       "      <td>...</td>\n",
       "    </tr>\n",
       "    <tr>\n",
       "      <th>96</th>\n",
       "      <td>0.117461</td>\n",
       "      <td>0.489131</td>\n",
       "      <td>0.262182</td>\n",
       "    </tr>\n",
       "    <tr>\n",
       "      <th>97</th>\n",
       "      <td>-0.145523</td>\n",
       "      <td>0.644839</td>\n",
       "      <td>0.220770</td>\n",
       "    </tr>\n",
       "    <tr>\n",
       "      <th>98</th>\n",
       "      <td>0.430925</td>\n",
       "      <td>0.071027</td>\n",
       "      <td>-0.004378</td>\n",
       "    </tr>\n",
       "    <tr>\n",
       "      <th>99</th>\n",
       "      <td>0.310773</td>\n",
       "      <td>0.478864</td>\n",
       "      <td>0.120493</td>\n",
       "    </tr>\n",
       "    <tr>\n",
       "      <th>100</th>\n",
       "      <td>0.036116</td>\n",
       "      <td>0.574116</td>\n",
       "      <td>0.231956</td>\n",
       "    </tr>\n",
       "  </tbody>\n",
       "</table>\n",
       "<p>100 rows × 3 columns</p>\n",
       "</div>"
      ],
      "text/plain": [
       "            a         x  intercept\n",
       "1    0.278099 -0.076967   0.398750\n",
       "2    0.215806  0.479788   0.187558\n",
       "3    0.190565  0.223374   0.257857\n",
       "4    0.067204 -0.244976   0.646443\n",
       "5    0.087950  0.177786   0.470748\n",
       "..        ...       ...        ...\n",
       "96   0.117461  0.489131   0.262182\n",
       "97  -0.145523  0.644839   0.220770\n",
       "98   0.430925  0.071027  -0.004378\n",
       "99   0.310773  0.478864   0.120493\n",
       "100  0.036116  0.574116   0.231956\n",
       "\n",
       "[100 rows x 3 columns]"
      ]
     },
     "execution_count": 37,
     "metadata": {},
     "output_type": "execute_result"
    }
   ],
   "source": [
    "try:\n",
    "    # when executed from jupyter notebook\n",
    "    base_dir = pathlib.Path(__file__).parents[2]\n",
    "except:\n",
    "    # when executed directly from script\n",
    "    base_dir  = pathlib.Path(os.getcwd()).parents[1]\n",
    "\n",
    "param_base = base_dir / 'out/parameter_data/stability/{}'.format('default')   \n",
    "pd.read_csv(param_base / 'params_y.csv', index_col='Unnamed: 0')"
   ]
  },
  {
   "cell_type": "code",
   "execution_count": 49,
   "metadata": {},
   "outputs": [
    {
     "ename": "NameError",
     "evalue": "name 'x_residuals' is not defined",
     "output_type": "error",
     "traceback": [
      "\u001b[0;31m---------------------------------------------------------------------------\u001b[0m",
      "\u001b[0;31mNameError\u001b[0m                                 Traceback (most recent call last)",
      "\u001b[0;32m<ipython-input-49-8b2bed91e876>\u001b[0m in \u001b[0;36m<module>\u001b[0;34m\u001b[0m\n\u001b[0;32m----> 1\u001b[0;31m \u001b[0mprint\u001b[0m\u001b[0;34m(\u001b[0m\u001b[0mx_residuals\u001b[0m\u001b[0;34m)\u001b[0m\u001b[0;34m\u001b[0m\u001b[0;34m\u001b[0m\u001b[0m\n\u001b[0m",
      "\u001b[0;31mNameError\u001b[0m: name 'x_residuals' is not defined"
     ]
    }
   ],
   "source": [
    "print(x_residuals)"
   ]
  },
  {
   "cell_type": "code",
   "execution_count": null,
   "metadata": {},
   "outputs": [],
   "source": []
  }
 ],
 "metadata": {
  "kernelspec": {
   "display_name": "Python 3",
   "language": "python",
   "name": "python3"
  },
  "language_info": {
   "codemirror_mode": {
    "name": "ipython",
    "version": 3
   },
   "file_extension": ".py",
   "mimetype": "text/x-python",
   "name": "python",
   "nbconvert_exporter": "python",
   "pygments_lexer": "ipython3",
   "version": "3.7.4"
  }
 },
 "nbformat": 4,
 "nbformat_minor": 4
}
